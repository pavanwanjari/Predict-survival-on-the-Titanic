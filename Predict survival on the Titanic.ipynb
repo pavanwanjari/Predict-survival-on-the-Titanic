{
 "cells": [
  {
   "cell_type": "markdown",
   "id": "217b3a39",
   "metadata": {},
   "source": [
    "# Titanic: Machine Learning from Disaster\n",
    "## Predict survival on the Titanic\n",
    "\n",
    "1. Defining the problem statement\n",
    "\n",
    "2. Import Libraries\n",
    "\n",
    "3. Collecting the data\n",
    "\n",
    "4. Exploratory data analysis (EDA)\n",
    "\n",
    "5. Data Visualization\n",
    "\n",
    "6. Data Cleaning\n",
    "\n",
    "7. Model Building\n",
    "\n",
    "8. Testing"
   ]
  },
  {
   "cell_type": "markdown",
   "id": "7e14f17c",
   "metadata": {},
   "source": [
    "## 1. Defining the problem statement\n",
    "Complete the analysis of what sorts of people were likely to survive.\n",
    "\n",
    "In particular, we ask you to apply the tools of machine learning to predict which passengers survived the Titanic tragedy."
   ]
  },
  {
   "cell_type": "markdown",
   "id": "530817a7",
   "metadata": {},
   "source": [
    "## 2. Import Libraries"
   ]
  },
  {
   "cell_type": "code",
   "execution_count": 1,
   "id": "766b9bc3",
   "metadata": {},
   "outputs": [],
   "source": [
    "import numpy as np\n",
    "import pandas as pd\n",
    "import matplotlib.pyplot as plt\n",
    "%matplotlib inline\n",
    "import seaborn as sns\n",
    "import warnings\n",
    "warnings.filterwarnings('ignore')"
   ]
  },
  {
   "cell_type": "markdown",
   "id": "0173456f",
   "metadata": {},
   "source": [
    "## 3. Collecting the data\n",
    "Training data set and Testing data set are given by Kaggle you can download from https://www.kaggle.com/c/titanic/data"
   ]
  },
  {
   "cell_type": "code",
   "execution_count": 2,
   "id": "aea9bc11",
   "metadata": {},
   "outputs": [],
   "source": [
    "# Load dataset using pandas library\n",
    "\n",
    "data=pd.read_csv(\"titanic_train.csv\")"
   ]
  },
  {
   "cell_type": "markdown",
   "id": "ab6b0eb8",
   "metadata": {},
   "source": [
    "## 4. Exploratory data analysis"
   ]
  },
  {
   "cell_type": "code",
   "execution_count": 3,
   "id": "364d6572",
   "metadata": {},
   "outputs": [
    {
     "data": {
      "text/html": [
       "<div>\n",
       "<style scoped>\n",
       "    .dataframe tbody tr th:only-of-type {\n",
       "        vertical-align: middle;\n",
       "    }\n",
       "\n",
       "    .dataframe tbody tr th {\n",
       "        vertical-align: top;\n",
       "    }\n",
       "\n",
       "    .dataframe thead th {\n",
       "        text-align: right;\n",
       "    }\n",
       "</style>\n",
       "<table border=\"1\" class=\"dataframe\">\n",
       "  <thead>\n",
       "    <tr style=\"text-align: right;\">\n",
       "      <th></th>\n",
       "      <th>passenger_id</th>\n",
       "      <th>pclass</th>\n",
       "      <th>name</th>\n",
       "      <th>sex</th>\n",
       "      <th>age</th>\n",
       "      <th>sibsp</th>\n",
       "      <th>parch</th>\n",
       "      <th>ticket</th>\n",
       "      <th>fare</th>\n",
       "      <th>cabin</th>\n",
       "      <th>embarked</th>\n",
       "      <th>boat</th>\n",
       "      <th>body</th>\n",
       "      <th>home.dest</th>\n",
       "      <th>survived</th>\n",
       "    </tr>\n",
       "  </thead>\n",
       "  <tbody>\n",
       "    <tr>\n",
       "      <th>0</th>\n",
       "      <td>1216</td>\n",
       "      <td>3</td>\n",
       "      <td>Smyth, Miss. Julia</td>\n",
       "      <td>female</td>\n",
       "      <td>NaN</td>\n",
       "      <td>0</td>\n",
       "      <td>0</td>\n",
       "      <td>335432</td>\n",
       "      <td>7.7333</td>\n",
       "      <td>NaN</td>\n",
       "      <td>Q</td>\n",
       "      <td>13</td>\n",
       "      <td>NaN</td>\n",
       "      <td>NaN</td>\n",
       "      <td>1</td>\n",
       "    </tr>\n",
       "    <tr>\n",
       "      <th>1</th>\n",
       "      <td>699</td>\n",
       "      <td>3</td>\n",
       "      <td>Cacic, Mr. Luka</td>\n",
       "      <td>male</td>\n",
       "      <td>38.0</td>\n",
       "      <td>0</td>\n",
       "      <td>0</td>\n",
       "      <td>315089</td>\n",
       "      <td>8.6625</td>\n",
       "      <td>NaN</td>\n",
       "      <td>S</td>\n",
       "      <td>NaN</td>\n",
       "      <td>NaN</td>\n",
       "      <td>Croatia</td>\n",
       "      <td>0</td>\n",
       "    </tr>\n",
       "    <tr>\n",
       "      <th>2</th>\n",
       "      <td>1267</td>\n",
       "      <td>3</td>\n",
       "      <td>Van Impe, Mrs. Jean Baptiste (Rosalie Paula Go...</td>\n",
       "      <td>female</td>\n",
       "      <td>30.0</td>\n",
       "      <td>1</td>\n",
       "      <td>1</td>\n",
       "      <td>345773</td>\n",
       "      <td>24.1500</td>\n",
       "      <td>NaN</td>\n",
       "      <td>S</td>\n",
       "      <td>NaN</td>\n",
       "      <td>NaN</td>\n",
       "      <td>NaN</td>\n",
       "      <td>0</td>\n",
       "    </tr>\n",
       "    <tr>\n",
       "      <th>3</th>\n",
       "      <td>449</td>\n",
       "      <td>2</td>\n",
       "      <td>Hocking, Mrs. Elizabeth (Eliza Needs)</td>\n",
       "      <td>female</td>\n",
       "      <td>54.0</td>\n",
       "      <td>1</td>\n",
       "      <td>3</td>\n",
       "      <td>29105</td>\n",
       "      <td>23.0000</td>\n",
       "      <td>NaN</td>\n",
       "      <td>S</td>\n",
       "      <td>4</td>\n",
       "      <td>NaN</td>\n",
       "      <td>Cornwall / Akron, OH</td>\n",
       "      <td>1</td>\n",
       "    </tr>\n",
       "    <tr>\n",
       "      <th>4</th>\n",
       "      <td>576</td>\n",
       "      <td>2</td>\n",
       "      <td>Veal, Mr. James</td>\n",
       "      <td>male</td>\n",
       "      <td>40.0</td>\n",
       "      <td>0</td>\n",
       "      <td>0</td>\n",
       "      <td>28221</td>\n",
       "      <td>13.0000</td>\n",
       "      <td>NaN</td>\n",
       "      <td>S</td>\n",
       "      <td>NaN</td>\n",
       "      <td>NaN</td>\n",
       "      <td>Barre, Co Washington, VT</td>\n",
       "      <td>0</td>\n",
       "    </tr>\n",
       "  </tbody>\n",
       "</table>\n",
       "</div>"
      ],
      "text/plain": [
       "   passenger_id  pclass                                               name  \\\n",
       "0          1216       3                                 Smyth, Miss. Julia   \n",
       "1           699       3                                    Cacic, Mr. Luka   \n",
       "2          1267       3  Van Impe, Mrs. Jean Baptiste (Rosalie Paula Go...   \n",
       "3           449       2              Hocking, Mrs. Elizabeth (Eliza Needs)   \n",
       "4           576       2                                    Veal, Mr. James   \n",
       "\n",
       "      sex   age  sibsp  parch  ticket     fare cabin embarked boat  body  \\\n",
       "0  female   NaN      0      0  335432   7.7333   NaN        Q   13   NaN   \n",
       "1    male  38.0      0      0  315089   8.6625   NaN        S  NaN   NaN   \n",
       "2  female  30.0      1      1  345773  24.1500   NaN        S  NaN   NaN   \n",
       "3  female  54.0      1      3   29105  23.0000   NaN        S    4   NaN   \n",
       "4    male  40.0      0      0   28221  13.0000   NaN        S  NaN   NaN   \n",
       "\n",
       "                  home.dest  survived  \n",
       "0                       NaN         1  \n",
       "1                   Croatia         0  \n",
       "2                       NaN         0  \n",
       "3      Cornwall / Akron, OH         1  \n",
       "4  Barre, Co Washington, VT         0  "
      ]
     },
     "execution_count": 3,
     "metadata": {},
     "output_type": "execute_result"
    }
   ],
   "source": [
    "data.head() # Print first 5 rows of dataset"
   ]
  },
  {
   "cell_type": "code",
   "execution_count": 4,
   "id": "9f1d248d",
   "metadata": {},
   "outputs": [
    {
     "data": {
      "text/plain": [
       "Index(['passenger_id', 'pclass', 'name', 'sex', 'age', 'sibsp', 'parch',\n",
       "       'ticket', 'fare', 'cabin', 'embarked', 'boat', 'body', 'home.dest',\n",
       "       'survived'],\n",
       "      dtype='object')"
      ]
     },
     "execution_count": 4,
     "metadata": {},
     "output_type": "execute_result"
    }
   ],
   "source": [
    "data.columns"
   ]
  },
  {
   "cell_type": "markdown",
   "id": "be2bd204",
   "metadata": {},
   "source": [
    "## Data Dictionary\n",
    "1. Survived: 0 = No, 1 = Yes\n",
    "2. pclass: Ticket class 1 = 1st, 2 = 2nd, 3 = 3rd\n",
    "3. sibsp: # of siblings / spouses aboard the Titanic\n",
    "4. parch: # of parents / children aboard the Titanic\n",
    "5. ticket: Ticket number\n",
    "6. cabin: Cabin number\n",
    "7. embarked: Port of Embarkation C = Cherbourg, Q = Queenstown, S = Southampton"
   ]
  },
  {
   "cell_type": "code",
   "execution_count": 5,
   "id": "c5a643b0",
   "metadata": {},
   "outputs": [
    {
     "data": {
      "text/plain": [
       "(850, 15)"
      ]
     },
     "execution_count": 5,
     "metadata": {},
     "output_type": "execute_result"
    }
   ],
   "source": [
    "data.shape"
   ]
  },
  {
   "cell_type": "markdown",
   "id": "048f6920",
   "metadata": {},
   "source": [
    "### Total rows and columns\n",
    "\n",
    "We can see that there are 850 rows and 15 columns in our training dataset."
   ]
  },
  {
   "cell_type": "code",
   "execution_count": 6,
   "id": "f08b93c6",
   "metadata": {},
   "outputs": [
    {
     "data": {
      "text/plain": [
       "passenger_id      int64\n",
       "pclass            int64\n",
       "name             object\n",
       "sex              object\n",
       "age             float64\n",
       "sibsp             int64\n",
       "parch             int64\n",
       "ticket           object\n",
       "fare            float64\n",
       "cabin            object\n",
       "embarked         object\n",
       "boat             object\n",
       "body            float64\n",
       "home.dest        object\n",
       "survived          int64\n",
       "dtype: object"
      ]
     },
     "execution_count": 6,
     "metadata": {},
     "output_type": "execute_result"
    }
   ],
   "source": [
    "data.dtypes # check data types"
   ]
  },
  {
   "cell_type": "code",
   "execution_count": 7,
   "id": "9b89b400",
   "metadata": {},
   "outputs": [
    {
     "data": {
      "text/plain": [
       "passenger_id    850\n",
       "pclass            3\n",
       "name            849\n",
       "sex               2\n",
       "age              88\n",
       "sibsp             7\n",
       "parch             8\n",
       "ticket          660\n",
       "fare            236\n",
       "cabin           135\n",
       "embarked          3\n",
       "boat             26\n",
       "body             73\n",
       "home.dest       272\n",
       "survived          2\n",
       "dtype: int64"
      ]
     },
     "execution_count": 7,
     "metadata": {},
     "output_type": "execute_result"
    }
   ],
   "source": [
    "data.nunique()  # check unique values "
   ]
  },
  {
   "cell_type": "code",
   "execution_count": 42,
   "id": "27a6ed61",
   "metadata": {},
   "outputs": [
    {
     "data": {
      "text/html": [
       "<div>\n",
       "<style scoped>\n",
       "    .dataframe tbody tr th:only-of-type {\n",
       "        vertical-align: middle;\n",
       "    }\n",
       "\n",
       "    .dataframe tbody tr th {\n",
       "        vertical-align: top;\n",
       "    }\n",
       "\n",
       "    .dataframe thead th {\n",
       "        text-align: right;\n",
       "    }\n",
       "</style>\n",
       "<table border=\"1\" class=\"dataframe\">\n",
       "  <thead>\n",
       "    <tr style=\"text-align: right;\">\n",
       "      <th></th>\n",
       "      <th>pclass</th>\n",
       "      <th>sex</th>\n",
       "      <th>age</th>\n",
       "      <th>sibsp</th>\n",
       "      <th>parch</th>\n",
       "      <th>fare</th>\n",
       "      <th>embarked</th>\n",
       "      <th>survived</th>\n",
       "    </tr>\n",
       "  </thead>\n",
       "  <tbody>\n",
       "    <tr>\n",
       "      <th>count</th>\n",
       "      <td>850.00000</td>\n",
       "      <td>850.000000</td>\n",
       "      <td>850.000000</td>\n",
       "      <td>850.000000</td>\n",
       "      <td>850.000000</td>\n",
       "      <td>850.000000</td>\n",
       "      <td>850.000000</td>\n",
       "      <td>850.000000</td>\n",
       "    </tr>\n",
       "    <tr>\n",
       "      <th>mean</th>\n",
       "      <td>2.32000</td>\n",
       "      <td>0.648235</td>\n",
       "      <td>29.519847</td>\n",
       "      <td>0.522353</td>\n",
       "      <td>0.382353</td>\n",
       "      <td>34.012701</td>\n",
       "      <td>0.207059</td>\n",
       "      <td>0.368235</td>\n",
       "    </tr>\n",
       "    <tr>\n",
       "      <th>std</th>\n",
       "      <td>0.83853</td>\n",
       "      <td>0.477802</td>\n",
       "      <td>12.984533</td>\n",
       "      <td>1.112132</td>\n",
       "      <td>0.879511</td>\n",
       "      <td>53.674141</td>\n",
       "      <td>0.405437</td>\n",
       "      <td>0.482610</td>\n",
       "    </tr>\n",
       "    <tr>\n",
       "      <th>min</th>\n",
       "      <td>1.00000</td>\n",
       "      <td>0.000000</td>\n",
       "      <td>0.166700</td>\n",
       "      <td>0.000000</td>\n",
       "      <td>0.000000</td>\n",
       "      <td>0.000000</td>\n",
       "      <td>0.000000</td>\n",
       "      <td>0.000000</td>\n",
       "    </tr>\n",
       "    <tr>\n",
       "      <th>25%</th>\n",
       "      <td>2.00000</td>\n",
       "      <td>0.000000</td>\n",
       "      <td>22.000000</td>\n",
       "      <td>0.000000</td>\n",
       "      <td>0.000000</td>\n",
       "      <td>7.895800</td>\n",
       "      <td>0.000000</td>\n",
       "      <td>0.000000</td>\n",
       "    </tr>\n",
       "    <tr>\n",
       "      <th>50%</th>\n",
       "      <td>3.00000</td>\n",
       "      <td>1.000000</td>\n",
       "      <td>29.519847</td>\n",
       "      <td>0.000000</td>\n",
       "      <td>0.000000</td>\n",
       "      <td>14.108300</td>\n",
       "      <td>0.000000</td>\n",
       "      <td>0.000000</td>\n",
       "    </tr>\n",
       "    <tr>\n",
       "      <th>75%</th>\n",
       "      <td>3.00000</td>\n",
       "      <td>1.000000</td>\n",
       "      <td>34.875000</td>\n",
       "      <td>1.000000</td>\n",
       "      <td>0.000000</td>\n",
       "      <td>31.000000</td>\n",
       "      <td>0.000000</td>\n",
       "      <td>1.000000</td>\n",
       "    </tr>\n",
       "    <tr>\n",
       "      <th>max</th>\n",
       "      <td>3.00000</td>\n",
       "      <td>1.000000</td>\n",
       "      <td>80.000000</td>\n",
       "      <td>8.000000</td>\n",
       "      <td>9.000000</td>\n",
       "      <td>512.329200</td>\n",
       "      <td>1.000000</td>\n",
       "      <td>1.000000</td>\n",
       "    </tr>\n",
       "  </tbody>\n",
       "</table>\n",
       "</div>"
      ],
      "text/plain": [
       "          pclass         sex         age       sibsp       parch        fare  \\\n",
       "count  850.00000  850.000000  850.000000  850.000000  850.000000  850.000000   \n",
       "mean     2.32000    0.648235   29.519847    0.522353    0.382353   34.012701   \n",
       "std      0.83853    0.477802   12.984533    1.112132    0.879511   53.674141   \n",
       "min      1.00000    0.000000    0.166700    0.000000    0.000000    0.000000   \n",
       "25%      2.00000    0.000000   22.000000    0.000000    0.000000    7.895800   \n",
       "50%      3.00000    1.000000   29.519847    0.000000    0.000000   14.108300   \n",
       "75%      3.00000    1.000000   34.875000    1.000000    0.000000   31.000000   \n",
       "max      3.00000    1.000000   80.000000    8.000000    9.000000  512.329200   \n",
       "\n",
       "         embarked    survived  \n",
       "count  850.000000  850.000000  \n",
       "mean     0.207059    0.368235  \n",
       "std      0.405437    0.482610  \n",
       "min      0.000000    0.000000  \n",
       "25%      0.000000    0.000000  \n",
       "50%      0.000000    0.000000  \n",
       "75%      0.000000    1.000000  \n",
       "max      1.000000    1.000000  "
      ]
     },
     "execution_count": 42,
     "metadata": {},
     "output_type": "execute_result"
    }
   ],
   "source": [
    "data.describe()    # Statistics Summary"
   ]
  },
  {
   "cell_type": "code",
   "execution_count": 9,
   "id": "71a4421e",
   "metadata": {},
   "outputs": [
    {
     "data": {
      "text/plain": [
       "passenger_id      0\n",
       "pclass            0\n",
       "name              0\n",
       "sex               0\n",
       "age             174\n",
       "sibsp             0\n",
       "parch             0\n",
       "ticket            0\n",
       "fare              1\n",
       "cabin           659\n",
       "embarked          1\n",
       "boat            542\n",
       "body            777\n",
       "home.dest       386\n",
       "survived          0\n",
       "dtype: int64"
      ]
     },
     "execution_count": 9,
     "metadata": {},
     "output_type": "execute_result"
    }
   ],
   "source": [
    "# check null values\n",
    "data.isnull().sum()"
   ]
  },
  {
   "cell_type": "markdown",
   "id": "08b9e83e",
   "metadata": {},
   "source": [
    "There are null values present in age, fare, cabin, embarked, boat, body, home.dest. "
   ]
  },
  {
   "cell_type": "code",
   "execution_count": 10,
   "id": "2fb84bf0",
   "metadata": {},
   "outputs": [
    {
     "data": {
      "text/plain": [
       "<AxesSubplot:>"
      ]
     },
     "execution_count": 10,
     "metadata": {},
     "output_type": "execute_result"
    },
    {
     "data": {
      "image/png": "[encoded data removed]",
      "text/plain": [
       "<Figure size 432x288 with 2 Axes>"
      ]
     },
     "metadata": {
      "needs_background": "light"
     },
     "output_type": "display_data"
    }
   ],
   "source": [
    "a=data.isnull()\n",
    "sns.heatmap(a)"
   ]
  },
  {
   "cell_type": "markdown",
   "id": "3d4ccff4",
   "metadata": {},
   "source": [
    "Heatmap shows null values of dataset"
   ]
  },
  {
   "cell_type": "markdown",
   "id": "c5838590",
   "metadata": {},
   "source": [
    "## 5. Data visualization"
   ]
  },
  {
   "cell_type": "markdown",
   "id": "b8127eba",
   "metadata": {},
   "source": [
    "### Countplot for Categorical features"
   ]
  },
  {
   "cell_type": "code",
   "execution_count": 11,
   "id": "e8895593",
   "metadata": {},
   "outputs": [
    {
     "data": {
      "text/plain": [
       "<AxesSubplot:xlabel='survived', ylabel='count'>"
      ]
     },
     "execution_count": 11,
     "metadata": {},
     "output_type": "execute_result"
    },
    {
     "data": {
      "image/png": "[encoded data removed]",
      "text/plain": [
       "<Figure size 432x288 with 1 Axes>"
      ]
     },
     "metadata": {
      "needs_background": "light"
     },
     "output_type": "display_data"
    }
   ],
   "source": [
    "sns.countplot(x=\"survived\", hue=\"sex\", data=data, palette='CMRmap')"
   ]
  },
  {
   "cell_type": "markdown",
   "id": "62258086",
   "metadata": {},
   "source": [
    "The countplot confirms Women more likely survivied than Men"
   ]
  },
  {
   "cell_type": "code",
   "execution_count": 12,
   "id": "11698533",
   "metadata": {},
   "outputs": [
    {
     "data": {
      "text/plain": [
       "<AxesSubplot:xlabel='sibsp', ylabel='count'>"
      ]
     },
     "execution_count": 12,
     "metadata": {},
     "output_type": "execute_result"
    },
    {
     "data": {
      "image/png": "[encoded data removed]",
      "text/plain": [
       "<Figure size 432x288 with 1 Axes>"
      ]
     },
     "metadata": {
      "needs_background": "light"
     },
     "output_type": "display_data"
    }
   ],
   "source": [
    "sns.countplot(data['sibsp'], palette = 'Dark2_r')"
   ]
  },
  {
   "cell_type": "code",
   "execution_count": 13,
   "id": "bd9f5d56",
   "metadata": {},
   "outputs": [
    {
     "data": {
      "text/plain": [
       "<AxesSubplot:xlabel='parch', ylabel='count'>"
      ]
     },
     "execution_count": 13,
     "metadata": {},
     "output_type": "execute_result"
    },
    {
     "data": {
      "image/png": "[encoded data removed]",
      "text/plain": [
       "<Figure size 432x288 with 1 Axes>"
      ]
     },
     "metadata": {
      "needs_background": "light"
     },
     "output_type": "display_data"
    }
   ],
   "source": [
    "sns.countplot(data['parch'], palette= 'Dark2_r')"
   ]
  },
  {
   "cell_type": "code",
   "execution_count": 14,
   "id": "9cea9f8c",
   "metadata": {},
   "outputs": [
    {
     "data": {
      "text/plain": [
       "<AxesSubplot:xlabel='survived', ylabel='count'>"
      ]
     },
     "execution_count": 14,
     "metadata": {},
     "output_type": "execute_result"
    },
    {
     "data": {
      "image/png": "[encoded data removed]",
      "text/plain": [
       "<Figure size 432x288 with 1 Axes>"
      ]
     },
     "metadata": {
      "needs_background": "light"
     },
     "output_type": "display_data"
    }
   ],
   "source": [
    "sns.countplot(x=\"survived\", hue=\"pclass\", data=data)"
   ]
  },
  {
   "cell_type": "markdown",
   "id": "e7d0e45b",
   "metadata": {},
   "source": [
    "The countplot shows **1st class** more likely **survivied** than other classes\n",
    "and **3rd class** more likely **dead** than other classes."
   ]
  },
  {
   "cell_type": "code",
   "execution_count": 15,
   "id": "42f263e5",
   "metadata": {},
   "outputs": [
    {
     "data": {
      "text/plain": [
       "3    478\n",
       "1    206\n",
       "2    166\n",
       "Name: pclass, dtype: int64"
      ]
     },
     "execution_count": 15,
     "metadata": {},
     "output_type": "execute_result"
    }
   ],
   "source": [
    "# pclass valaues count\n",
    "data.pclass.value_counts() "
   ]
  },
  {
   "cell_type": "code",
   "execution_count": 16,
   "id": "43a8eb5b",
   "metadata": {},
   "outputs": [
    {
     "data": {
      "text/plain": [
       "<matplotlib.legend.Legend at 0x1f9cef129a0>"
      ]
     },
     "execution_count": 16,
     "metadata": {},
     "output_type": "execute_result"
    },
    {
     "data": {
      "image/png": "[encoded data removed]",
      "text/plain": [
       "<Figure size 1080x432 with 1 Axes>"
      ]
     },
     "metadata": {
      "needs_background": "light"
     },
     "output_type": "display_data"
    }
   ],
   "source": [
    "fig = plt.figure(figsize=(15,6))\n",
    "# plots a kernel density estimate of the subset of the 1st class passangers's age\n",
    "data.age[data.pclass == 1].plot(kind='kde')    \n",
    "data.age[data.pclass == 2].plot(kind='kde')\n",
    "data.age[data.pclass == 3].plot(kind='kde')\n",
    " # plots an axis lable\n",
    "plt.xlabel(\"Age\", fontsize = 15)  \n",
    "plt.ylabel(\"Density\", fontsize = 15)\n",
    "plt.title(\"Age Distribution within classes\", fontsize = 15)\n",
    "\n",
    "plt.legend(('1st Class', '2nd Class','3rd Class'),loc='best', fontsize = 15)  # sets our legend for our graph."
   ]
  },
  {
   "cell_type": "code",
   "execution_count": 17,
   "id": "7ff72b8f",
   "metadata": {
    "scrolled": true
   },
   "outputs": [
    {
     "data": {
      "text/plain": [
       "<AxesSubplot:xlabel='age', ylabel='Density'>"
      ]
     },
     "execution_count": 17,
     "metadata": {},
     "output_type": "execute_result"
    },
    {
     "data": {
      "image/png": "[encoded data removed]",
      "text/plain": [
       "<Figure size 432x288 with 1 Axes>"
      ]
     },
     "metadata": {
      "needs_background": "light"
     },
     "output_type": "display_data"
    }
   ],
   "source": [
    "sns.distplot(data['age'], kde=True, color=\"g\")"
   ]
  },
  {
   "cell_type": "markdown",
   "id": "d66e2bd0",
   "metadata": {},
   "source": [
    "Above graphs shows 20-40 age passengers are more"
   ]
  },
  {
   "cell_type": "markdown",
   "id": "ef24afe0",
   "metadata": {},
   "source": [
    "## 6. Data Cleaning"
   ]
  },
  {
   "cell_type": "code",
   "execution_count": 18,
   "id": "d6728493",
   "metadata": {},
   "outputs": [
    {
     "data": {
      "text/plain": [
       "passenger_id      0\n",
       "pclass            0\n",
       "name              0\n",
       "sex               0\n",
       "age             174\n",
       "sibsp             0\n",
       "parch             0\n",
       "ticket            0\n",
       "fare              1\n",
       "cabin           659\n",
       "embarked          1\n",
       "boat            542\n",
       "body            777\n",
       "home.dest       386\n",
       "survived          0\n",
       "dtype: int64"
      ]
     },
     "execution_count": 18,
     "metadata": {},
     "output_type": "execute_result"
    }
   ],
   "source": [
    "data.isnull().sum()"
   ]
  },
  {
   "cell_type": "markdown",
   "id": "2c9696ac",
   "metadata": {},
   "source": [
    "**Fill null values**"
   ]
  },
  {
   "cell_type": "code",
   "execution_count": 19,
   "id": "5875d1be",
   "metadata": {},
   "outputs": [
    {
     "data": {
      "text/plain": [
       "29.519847189349115"
      ]
     },
     "execution_count": 19,
     "metadata": {},
     "output_type": "execute_result"
    }
   ],
   "source": [
    "# find mean of age and replace mean with null values of age\n",
    "data.age.mean()"
   ]
  },
  {
   "cell_type": "code",
   "execution_count": 20,
   "id": "e059b8b0",
   "metadata": {},
   "outputs": [],
   "source": [
    "data['age']= data['age'].fillna(data.age.mean())"
   ]
  },
  {
   "cell_type": "code",
   "execution_count": 21,
   "id": "201ca107",
   "metadata": {},
   "outputs": [],
   "source": [
    "data['embarked']= data['embarked'].fillna(data.age.mode()[0])"
   ]
  },
  {
   "cell_type": "code",
   "execution_count": 22,
   "id": "c4162196",
   "metadata": {},
   "outputs": [
    {
     "data": {
      "text/plain": [
       "34.012700942284994"
      ]
     },
     "execution_count": 22,
     "metadata": {},
     "output_type": "execute_result"
    }
   ],
   "source": [
    "# find mean of fare and replace mean with null values of fare\n",
    "\n",
    "data.fare.mean()"
   ]
  },
  {
   "cell_type": "code",
   "execution_count": 23,
   "id": "62f23097",
   "metadata": {},
   "outputs": [],
   "source": [
    "data['fare']= data['fare'].fillna(data.fare.mean())"
   ]
  },
  {
   "cell_type": "code",
   "execution_count": 24,
   "id": "972b07d8",
   "metadata": {},
   "outputs": [
    {
     "data": {
      "text/html": [
       "<div>\n",
       "<style scoped>\n",
       "    .dataframe tbody tr th:only-of-type {\n",
       "        vertical-align: middle;\n",
       "    }\n",
       "\n",
       "    .dataframe tbody tr th {\n",
       "        vertical-align: top;\n",
       "    }\n",
       "\n",
       "    .dataframe thead th {\n",
       "        text-align: right;\n",
       "    }\n",
       "</style>\n",
       "<table border=\"1\" class=\"dataframe\">\n",
       "  <thead>\n",
       "    <tr style=\"text-align: right;\">\n",
       "      <th></th>\n",
       "      <th>passenger_id</th>\n",
       "      <th>pclass</th>\n",
       "      <th>name</th>\n",
       "      <th>sex</th>\n",
       "      <th>age</th>\n",
       "      <th>sibsp</th>\n",
       "      <th>parch</th>\n",
       "      <th>ticket</th>\n",
       "      <th>fare</th>\n",
       "      <th>cabin</th>\n",
       "      <th>embarked</th>\n",
       "      <th>boat</th>\n",
       "      <th>body</th>\n",
       "      <th>home.dest</th>\n",
       "      <th>survived</th>\n",
       "    </tr>\n",
       "  </thead>\n",
       "  <tbody>\n",
       "    <tr>\n",
       "      <th>0</th>\n",
       "      <td>1216</td>\n",
       "      <td>3</td>\n",
       "      <td>Smyth, Miss. Julia</td>\n",
       "      <td>female</td>\n",
       "      <td>29.519847</td>\n",
       "      <td>0</td>\n",
       "      <td>0</td>\n",
       "      <td>335432</td>\n",
       "      <td>7.7333</td>\n",
       "      <td>NaN</td>\n",
       "      <td>Q</td>\n",
       "      <td>13</td>\n",
       "      <td>NaN</td>\n",
       "      <td>NaN</td>\n",
       "      <td>1</td>\n",
       "    </tr>\n",
       "    <tr>\n",
       "      <th>1</th>\n",
       "      <td>699</td>\n",
       "      <td>3</td>\n",
       "      <td>Cacic, Mr. Luka</td>\n",
       "      <td>male</td>\n",
       "      <td>38.000000</td>\n",
       "      <td>0</td>\n",
       "      <td>0</td>\n",
       "      <td>315089</td>\n",
       "      <td>8.6625</td>\n",
       "      <td>NaN</td>\n",
       "      <td>S</td>\n",
       "      <td>NaN</td>\n",
       "      <td>NaN</td>\n",
       "      <td>Croatia</td>\n",
       "      <td>0</td>\n",
       "    </tr>\n",
       "    <tr>\n",
       "      <th>2</th>\n",
       "      <td>1267</td>\n",
       "      <td>3</td>\n",
       "      <td>Van Impe, Mrs. Jean Baptiste (Rosalie Paula Go...</td>\n",
       "      <td>female</td>\n",
       "      <td>30.000000</td>\n",
       "      <td>1</td>\n",
       "      <td>1</td>\n",
       "      <td>345773</td>\n",
       "      <td>24.1500</td>\n",
       "      <td>NaN</td>\n",
       "      <td>S</td>\n",
       "      <td>NaN</td>\n",
       "      <td>NaN</td>\n",
       "      <td>NaN</td>\n",
       "      <td>0</td>\n",
       "    </tr>\n",
       "    <tr>\n",
       "      <th>3</th>\n",
       "      <td>449</td>\n",
       "      <td>2</td>\n",
       "      <td>Hocking, Mrs. Elizabeth (Eliza Needs)</td>\n",
       "      <td>female</td>\n",
       "      <td>54.000000</td>\n",
       "      <td>1</td>\n",
       "      <td>3</td>\n",
       "      <td>29105</td>\n",
       "      <td>23.0000</td>\n",
       "      <td>NaN</td>\n",
       "      <td>S</td>\n",
       "      <td>4</td>\n",
       "      <td>NaN</td>\n",
       "      <td>Cornwall / Akron, OH</td>\n",
       "      <td>1</td>\n",
       "    </tr>\n",
       "    <tr>\n",
       "      <th>4</th>\n",
       "      <td>576</td>\n",
       "      <td>2</td>\n",
       "      <td>Veal, Mr. James</td>\n",
       "      <td>male</td>\n",
       "      <td>40.000000</td>\n",
       "      <td>0</td>\n",
       "      <td>0</td>\n",
       "      <td>28221</td>\n",
       "      <td>13.0000</td>\n",
       "      <td>NaN</td>\n",
       "      <td>S</td>\n",
       "      <td>NaN</td>\n",
       "      <td>NaN</td>\n",
       "      <td>Barre, Co Washington, VT</td>\n",
       "      <td>0</td>\n",
       "    </tr>\n",
       "    <tr>\n",
       "      <th>5</th>\n",
       "      <td>1083</td>\n",
       "      <td>3</td>\n",
       "      <td>Olsen, Mr. Henry Margido</td>\n",
       "      <td>male</td>\n",
       "      <td>28.000000</td>\n",
       "      <td>0</td>\n",
       "      <td>0</td>\n",
       "      <td>C 4001</td>\n",
       "      <td>22.5250</td>\n",
       "      <td>NaN</td>\n",
       "      <td>S</td>\n",
       "      <td>NaN</td>\n",
       "      <td>173.0</td>\n",
       "      <td>NaN</td>\n",
       "      <td>0</td>\n",
       "    </tr>\n",
       "    <tr>\n",
       "      <th>6</th>\n",
       "      <td>898</td>\n",
       "      <td>3</td>\n",
       "      <td>Johnson, Mr. William Cahoone Jr</td>\n",
       "      <td>male</td>\n",
       "      <td>19.000000</td>\n",
       "      <td>0</td>\n",
       "      <td>0</td>\n",
       "      <td>LINE</td>\n",
       "      <td>0.0000</td>\n",
       "      <td>NaN</td>\n",
       "      <td>S</td>\n",
       "      <td>NaN</td>\n",
       "      <td>NaN</td>\n",
       "      <td>NaN</td>\n",
       "      <td>0</td>\n",
       "    </tr>\n",
       "    <tr>\n",
       "      <th>7</th>\n",
       "      <td>560</td>\n",
       "      <td>2</td>\n",
       "      <td>Sinkkonen, Miss. Anna</td>\n",
       "      <td>female</td>\n",
       "      <td>30.000000</td>\n",
       "      <td>0</td>\n",
       "      <td>0</td>\n",
       "      <td>250648</td>\n",
       "      <td>13.0000</td>\n",
       "      <td>NaN</td>\n",
       "      <td>S</td>\n",
       "      <td>10</td>\n",
       "      <td>NaN</td>\n",
       "      <td>Finland / Washington, DC</td>\n",
       "      <td>1</td>\n",
       "    </tr>\n",
       "    <tr>\n",
       "      <th>8</th>\n",
       "      <td>1079</td>\n",
       "      <td>3</td>\n",
       "      <td>Ohman, Miss. Velin</td>\n",
       "      <td>female</td>\n",
       "      <td>22.000000</td>\n",
       "      <td>0</td>\n",
       "      <td>0</td>\n",
       "      <td>347085</td>\n",
       "      <td>7.7750</td>\n",
       "      <td>NaN</td>\n",
       "      <td>S</td>\n",
       "      <td>C</td>\n",
       "      <td>NaN</td>\n",
       "      <td>NaN</td>\n",
       "      <td>1</td>\n",
       "    </tr>\n",
       "    <tr>\n",
       "      <th>9</th>\n",
       "      <td>908</td>\n",
       "      <td>3</td>\n",
       "      <td>Jussila, Miss. Mari Aina</td>\n",
       "      <td>female</td>\n",
       "      <td>21.000000</td>\n",
       "      <td>1</td>\n",
       "      <td>0</td>\n",
       "      <td>4137</td>\n",
       "      <td>9.8250</td>\n",
       "      <td>NaN</td>\n",
       "      <td>S</td>\n",
       "      <td>NaN</td>\n",
       "      <td>NaN</td>\n",
       "      <td>NaN</td>\n",
       "      <td>0</td>\n",
       "    </tr>\n",
       "    <tr>\n",
       "      <th>10</th>\n",
       "      <td>313</td>\n",
       "      <td>1</td>\n",
       "      <td>Widener, Mr. Harry Elkins</td>\n",
       "      <td>male</td>\n",
       "      <td>27.000000</td>\n",
       "      <td>0</td>\n",
       "      <td>2</td>\n",
       "      <td>113503</td>\n",
       "      <td>211.5000</td>\n",
       "      <td>C82</td>\n",
       "      <td>C</td>\n",
       "      <td>NaN</td>\n",
       "      <td>NaN</td>\n",
       "      <td>Elkins Park, PA</td>\n",
       "      <td>0</td>\n",
       "    </tr>\n",
       "    <tr>\n",
       "      <th>11</th>\n",
       "      <td>43</td>\n",
       "      <td>1</td>\n",
       "      <td>Bucknell, Mrs. William Robert (Emma Eliza Ward)</td>\n",
       "      <td>female</td>\n",
       "      <td>60.000000</td>\n",
       "      <td>0</td>\n",
       "      <td>0</td>\n",
       "      <td>11813</td>\n",
       "      <td>76.2917</td>\n",
       "      <td>D15</td>\n",
       "      <td>C</td>\n",
       "      <td>8</td>\n",
       "      <td>NaN</td>\n",
       "      <td>Philadelphia, PA</td>\n",
       "      <td>1</td>\n",
       "    </tr>\n",
       "    <tr>\n",
       "      <th>12</th>\n",
       "      <td>233</td>\n",
       "      <td>1</td>\n",
       "      <td>Potter, Mrs. Thomas Jr (Lily Alexenia Wilson)</td>\n",
       "      <td>female</td>\n",
       "      <td>56.000000</td>\n",
       "      <td>0</td>\n",
       "      <td>1</td>\n",
       "      <td>11767</td>\n",
       "      <td>83.1583</td>\n",
       "      <td>C50</td>\n",
       "      <td>C</td>\n",
       "      <td>7</td>\n",
       "      <td>NaN</td>\n",
       "      <td>Mt Airy, Philadelphia, PA</td>\n",
       "      <td>1</td>\n",
       "    </tr>\n",
       "    <tr>\n",
       "      <th>13</th>\n",
       "      <td>446</td>\n",
       "      <td>2</td>\n",
       "      <td>Hocking, Miss. Ellen \"Nellie\"</td>\n",
       "      <td>female</td>\n",
       "      <td>20.000000</td>\n",
       "      <td>2</td>\n",
       "      <td>1</td>\n",
       "      <td>29105</td>\n",
       "      <td>23.0000</td>\n",
       "      <td>NaN</td>\n",
       "      <td>S</td>\n",
       "      <td>4</td>\n",
       "      <td>NaN</td>\n",
       "      <td>Cornwall / Akron, OH</td>\n",
       "      <td>1</td>\n",
       "    </tr>\n",
       "    <tr>\n",
       "      <th>14</th>\n",
       "      <td>602</td>\n",
       "      <td>3</td>\n",
       "      <td>Abbott, Mr. Rossmore Edward</td>\n",
       "      <td>male</td>\n",
       "      <td>16.000000</td>\n",
       "      <td>1</td>\n",
       "      <td>1</td>\n",
       "      <td>C.A. 2673</td>\n",
       "      <td>20.2500</td>\n",
       "      <td>NaN</td>\n",
       "      <td>S</td>\n",
       "      <td>NaN</td>\n",
       "      <td>190.0</td>\n",
       "      <td>East Providence, RI</td>\n",
       "      <td>0</td>\n",
       "    </tr>\n",
       "    <tr>\n",
       "      <th>15</th>\n",
       "      <td>884</td>\n",
       "      <td>3</td>\n",
       "      <td>Jensen, Mr. Niels Peder</td>\n",
       "      <td>male</td>\n",
       "      <td>48.000000</td>\n",
       "      <td>0</td>\n",
       "      <td>0</td>\n",
       "      <td>350047</td>\n",
       "      <td>7.8542</td>\n",
       "      <td>NaN</td>\n",
       "      <td>S</td>\n",
       "      <td>NaN</td>\n",
       "      <td>NaN</td>\n",
       "      <td>NaN</td>\n",
       "      <td>0</td>\n",
       "    </tr>\n",
       "    <tr>\n",
       "      <th>16</th>\n",
       "      <td>497</td>\n",
       "      <td>2</td>\n",
       "      <td>Maybery, Mr. Frank Hubert</td>\n",
       "      <td>male</td>\n",
       "      <td>40.000000</td>\n",
       "      <td>0</td>\n",
       "      <td>0</td>\n",
       "      <td>239059</td>\n",
       "      <td>16.0000</td>\n",
       "      <td>NaN</td>\n",
       "      <td>S</td>\n",
       "      <td>NaN</td>\n",
       "      <td>NaN</td>\n",
       "      <td>Weston-Super-Mare / Moose Jaw, SK</td>\n",
       "      <td>0</td>\n",
       "    </tr>\n",
       "    <tr>\n",
       "      <th>17</th>\n",
       "      <td>1003</td>\n",
       "      <td>3</td>\n",
       "      <td>McCoy, Mr. Bernard</td>\n",
       "      <td>male</td>\n",
       "      <td>29.519847</td>\n",
       "      <td>2</td>\n",
       "      <td>0</td>\n",
       "      <td>367226</td>\n",
       "      <td>23.2500</td>\n",
       "      <td>NaN</td>\n",
       "      <td>Q</td>\n",
       "      <td>16</td>\n",
       "      <td>NaN</td>\n",
       "      <td>NaN</td>\n",
       "      <td>1</td>\n",
       "    </tr>\n",
       "    <tr>\n",
       "      <th>18</th>\n",
       "      <td>36</td>\n",
       "      <td>1</td>\n",
       "      <td>Bowerman, Miss. Elsie Edith</td>\n",
       "      <td>female</td>\n",
       "      <td>22.000000</td>\n",
       "      <td>0</td>\n",
       "      <td>1</td>\n",
       "      <td>113505</td>\n",
       "      <td>55.0000</td>\n",
       "      <td>E33</td>\n",
       "      <td>S</td>\n",
       "      <td>6</td>\n",
       "      <td>NaN</td>\n",
       "      <td>St Leonards-on-Sea, England Ohio</td>\n",
       "      <td>1</td>\n",
       "    </tr>\n",
       "    <tr>\n",
       "      <th>19</th>\n",
       "      <td>1088</td>\n",
       "      <td>3</td>\n",
       "      <td>Olsson, Mr. Oscar Wilhelm</td>\n",
       "      <td>male</td>\n",
       "      <td>32.000000</td>\n",
       "      <td>0</td>\n",
       "      <td>0</td>\n",
       "      <td>347079</td>\n",
       "      <td>7.7750</td>\n",
       "      <td>NaN</td>\n",
       "      <td>S</td>\n",
       "      <td>A</td>\n",
       "      <td>NaN</td>\n",
       "      <td>NaN</td>\n",
       "      <td>1</td>\n",
       "    </tr>\n",
       "  </tbody>\n",
       "</table>\n",
       "</div>"
      ],
      "text/plain": [
       "    passenger_id  pclass                                               name  \\\n",
       "0           1216       3                                 Smyth, Miss. Julia   \n",
       "1            699       3                                    Cacic, Mr. Luka   \n",
       "2           1267       3  Van Impe, Mrs. Jean Baptiste (Rosalie Paula Go...   \n",
       "3            449       2              Hocking, Mrs. Elizabeth (Eliza Needs)   \n",
       "4            576       2                                    Veal, Mr. James   \n",
       "5           1083       3                           Olsen, Mr. Henry Margido   \n",
       "6            898       3                    Johnson, Mr. William Cahoone Jr   \n",
       "7            560       2                              Sinkkonen, Miss. Anna   \n",
       "8           1079       3                                 Ohman, Miss. Velin   \n",
       "9            908       3                           Jussila, Miss. Mari Aina   \n",
       "10           313       1                          Widener, Mr. Harry Elkins   \n",
       "11            43       1    Bucknell, Mrs. William Robert (Emma Eliza Ward)   \n",
       "12           233       1      Potter, Mrs. Thomas Jr (Lily Alexenia Wilson)   \n",
       "13           446       2                      Hocking, Miss. Ellen \"Nellie\"   \n",
       "14           602       3                        Abbott, Mr. Rossmore Edward   \n",
       "15           884       3                            Jensen, Mr. Niels Peder   \n",
       "16           497       2                          Maybery, Mr. Frank Hubert   \n",
       "17          1003       3                                 McCoy, Mr. Bernard   \n",
       "18            36       1                        Bowerman, Miss. Elsie Edith   \n",
       "19          1088       3                          Olsson, Mr. Oscar Wilhelm   \n",
       "\n",
       "       sex        age  sibsp  parch     ticket      fare cabin embarked boat  \\\n",
       "0   female  29.519847      0      0     335432    7.7333   NaN        Q   13   \n",
       "1     male  38.000000      0      0     315089    8.6625   NaN        S  NaN   \n",
       "2   female  30.000000      1      1     345773   24.1500   NaN        S  NaN   \n",
       "3   female  54.000000      1      3      29105   23.0000   NaN        S    4   \n",
       "4     male  40.000000      0      0      28221   13.0000   NaN        S  NaN   \n",
       "5     male  28.000000      0      0     C 4001   22.5250   NaN        S  NaN   \n",
       "6     male  19.000000      0      0       LINE    0.0000   NaN        S  NaN   \n",
       "7   female  30.000000      0      0     250648   13.0000   NaN        S   10   \n",
       "8   female  22.000000      0      0     347085    7.7750   NaN        S    C   \n",
       "9   female  21.000000      1      0       4137    9.8250   NaN        S  NaN   \n",
       "10    male  27.000000      0      2     113503  211.5000   C82        C  NaN   \n",
       "11  female  60.000000      0      0      11813   76.2917   D15        C    8   \n",
       "12  female  56.000000      0      1      11767   83.1583   C50        C    7   \n",
       "13  female  20.000000      2      1      29105   23.0000   NaN        S    4   \n",
       "14    male  16.000000      1      1  C.A. 2673   20.2500   NaN        S  NaN   \n",
       "15    male  48.000000      0      0     350047    7.8542   NaN        S  NaN   \n",
       "16    male  40.000000      0      0     239059   16.0000   NaN        S  NaN   \n",
       "17    male  29.519847      2      0     367226   23.2500   NaN        Q   16   \n",
       "18  female  22.000000      0      1     113505   55.0000   E33        S    6   \n",
       "19    male  32.000000      0      0     347079    7.7750   NaN        S    A   \n",
       "\n",
       "     body                          home.dest  survived  \n",
       "0     NaN                                NaN         1  \n",
       "1     NaN                            Croatia         0  \n",
       "2     NaN                                NaN         0  \n",
       "3     NaN               Cornwall / Akron, OH         1  \n",
       "4     NaN           Barre, Co Washington, VT         0  \n",
       "5   173.0                                NaN         0  \n",
       "6     NaN                                NaN         0  \n",
       "7     NaN           Finland / Washington, DC         1  \n",
       "8     NaN                                NaN         1  \n",
       "9     NaN                                NaN         0  \n",
       "10    NaN                    Elkins Park, PA         0  \n",
       "11    NaN                   Philadelphia, PA         1  \n",
       "12    NaN          Mt Airy, Philadelphia, PA         1  \n",
       "13    NaN               Cornwall / Akron, OH         1  \n",
       "14  190.0                East Providence, RI         0  \n",
       "15    NaN                                NaN         0  \n",
       "16    NaN  Weston-Super-Mare / Moose Jaw, SK         0  \n",
       "17    NaN                                NaN         1  \n",
       "18    NaN   St Leonards-on-Sea, England Ohio         1  \n",
       "19    NaN                                NaN         1  "
      ]
     },
     "execution_count": 24,
     "metadata": {},
     "output_type": "execute_result"
    }
   ],
   "source": [
    "# check data\n",
    "data.head(20)"
   ]
  },
  {
   "cell_type": "code",
   "execution_count": 25,
   "id": "18e93be1",
   "metadata": {
    "scrolled": true
   },
   "outputs": [
    {
     "data": {
      "text/plain": [
       "passenger_id      0\n",
       "pclass            0\n",
       "name              0\n",
       "sex               0\n",
       "age               0\n",
       "sibsp             0\n",
       "parch             0\n",
       "ticket            0\n",
       "fare              0\n",
       "cabin           659\n",
       "embarked          0\n",
       "boat            542\n",
       "body            777\n",
       "home.dest       386\n",
       "survived          0\n",
       "dtype: int64"
      ]
     },
     "execution_count": 25,
     "metadata": {},
     "output_type": "execute_result"
    }
   ],
   "source": [
    "data.isnull().sum()"
   ]
  },
  {
   "cell_type": "markdown",
   "id": "8ee29aa8",
   "metadata": {},
   "source": [
    "**Drop Columns which is not reqired for creating model**"
   ]
  },
  {
   "cell_type": "code",
   "execution_count": 26,
   "id": "17653cff",
   "metadata": {},
   "outputs": [],
   "source": [
    "data.drop(['name', 'passenger_id', 'cabin', 'boat', 'body', 'home.dest', 'ticket' ], axis=1, inplace= True)"
   ]
  },
  {
   "cell_type": "code",
   "execution_count": 27,
   "id": "bd353a89",
   "metadata": {},
   "outputs": [
    {
     "data": {
      "text/plain": [
       "<AxesSubplot:>"
      ]
     },
     "execution_count": 27,
     "metadata": {},
     "output_type": "execute_result"
    },
    {
     "data": {
      "image/png": "[encoded data removed]",
      "text/plain": [
       "<Figure size 432x288 with 2 Axes>"
      ]
     },
     "metadata": {
      "needs_background": "light"
     },
     "output_type": "display_data"
    }
   ],
   "source": [
    "sns.heatmap(data.isnull())"
   ]
  },
  {
   "cell_type": "markdown",
   "id": "d44b0961",
   "metadata": {},
   "source": [
    "**Heatmap** shows there are no null values present in dataset"
   ]
  },
  {
   "cell_type": "code",
   "execution_count": 28,
   "id": "c208750a",
   "metadata": {},
   "outputs": [
    {
     "data": {
      "text/html": [
       "<div>\n",
       "<style scoped>\n",
       "    .dataframe tbody tr th:only-of-type {\n",
       "        vertical-align: middle;\n",
       "    }\n",
       "\n",
       "    .dataframe tbody tr th {\n",
       "        vertical-align: top;\n",
       "    }\n",
       "\n",
       "    .dataframe thead th {\n",
       "        text-align: right;\n",
       "    }\n",
       "</style>\n",
       "<table border=\"1\" class=\"dataframe\">\n",
       "  <thead>\n",
       "    <tr style=\"text-align: right;\">\n",
       "      <th></th>\n",
       "      <th>pclass</th>\n",
       "      <th>sex</th>\n",
       "      <th>age</th>\n",
       "      <th>sibsp</th>\n",
       "      <th>parch</th>\n",
       "      <th>fare</th>\n",
       "      <th>embarked</th>\n",
       "      <th>survived</th>\n",
       "    </tr>\n",
       "  </thead>\n",
       "  <tbody>\n",
       "    <tr>\n",
       "      <th>0</th>\n",
       "      <td>3</td>\n",
       "      <td>female</td>\n",
       "      <td>29.519847</td>\n",
       "      <td>0</td>\n",
       "      <td>0</td>\n",
       "      <td>7.7333</td>\n",
       "      <td>Q</td>\n",
       "      <td>1</td>\n",
       "    </tr>\n",
       "    <tr>\n",
       "      <th>1</th>\n",
       "      <td>3</td>\n",
       "      <td>male</td>\n",
       "      <td>38.000000</td>\n",
       "      <td>0</td>\n",
       "      <td>0</td>\n",
       "      <td>8.6625</td>\n",
       "      <td>S</td>\n",
       "      <td>0</td>\n",
       "    </tr>\n",
       "    <tr>\n",
       "      <th>2</th>\n",
       "      <td>3</td>\n",
       "      <td>female</td>\n",
       "      <td>30.000000</td>\n",
       "      <td>1</td>\n",
       "      <td>1</td>\n",
       "      <td>24.1500</td>\n",
       "      <td>S</td>\n",
       "      <td>0</td>\n",
       "    </tr>\n",
       "    <tr>\n",
       "      <th>3</th>\n",
       "      <td>2</td>\n",
       "      <td>female</td>\n",
       "      <td>54.000000</td>\n",
       "      <td>1</td>\n",
       "      <td>3</td>\n",
       "      <td>23.0000</td>\n",
       "      <td>S</td>\n",
       "      <td>1</td>\n",
       "    </tr>\n",
       "    <tr>\n",
       "      <th>4</th>\n",
       "      <td>2</td>\n",
       "      <td>male</td>\n",
       "      <td>40.000000</td>\n",
       "      <td>0</td>\n",
       "      <td>0</td>\n",
       "      <td>13.0000</td>\n",
       "      <td>S</td>\n",
       "      <td>0</td>\n",
       "    </tr>\n",
       "    <tr>\n",
       "      <th>...</th>\n",
       "      <td>...</td>\n",
       "      <td>...</td>\n",
       "      <td>...</td>\n",
       "      <td>...</td>\n",
       "      <td>...</td>\n",
       "      <td>...</td>\n",
       "      <td>...</td>\n",
       "      <td>...</td>\n",
       "    </tr>\n",
       "    <tr>\n",
       "      <th>845</th>\n",
       "      <td>1</td>\n",
       "      <td>male</td>\n",
       "      <td>55.000000</td>\n",
       "      <td>0</td>\n",
       "      <td>0</td>\n",
       "      <td>50.0000</td>\n",
       "      <td>S</td>\n",
       "      <td>0</td>\n",
       "    </tr>\n",
       "    <tr>\n",
       "      <th>846</th>\n",
       "      <td>1</td>\n",
       "      <td>male</td>\n",
       "      <td>58.000000</td>\n",
       "      <td>0</td>\n",
       "      <td>0</td>\n",
       "      <td>29.7000</td>\n",
       "      <td>C</td>\n",
       "      <td>0</td>\n",
       "    </tr>\n",
       "    <tr>\n",
       "      <th>847</th>\n",
       "      <td>2</td>\n",
       "      <td>female</td>\n",
       "      <td>24.000000</td>\n",
       "      <td>1</td>\n",
       "      <td>0</td>\n",
       "      <td>26.0000</td>\n",
       "      <td>S</td>\n",
       "      <td>1</td>\n",
       "    </tr>\n",
       "    <tr>\n",
       "      <th>848</th>\n",
       "      <td>3</td>\n",
       "      <td>female</td>\n",
       "      <td>3.000000</td>\n",
       "      <td>1</td>\n",
       "      <td>1</td>\n",
       "      <td>13.7750</td>\n",
       "      <td>S</td>\n",
       "      <td>0</td>\n",
       "    </tr>\n",
       "    <tr>\n",
       "      <th>849</th>\n",
       "      <td>2</td>\n",
       "      <td>male</td>\n",
       "      <td>52.000000</td>\n",
       "      <td>0</td>\n",
       "      <td>0</td>\n",
       "      <td>13.0000</td>\n",
       "      <td>S</td>\n",
       "      <td>0</td>\n",
       "    </tr>\n",
       "  </tbody>\n",
       "</table>\n",
       "<p>850 rows × 8 columns</p>\n",
       "</div>"
      ],
      "text/plain": [
       "     pclass     sex        age  sibsp  parch     fare embarked  survived\n",
       "0         3  female  29.519847      0      0   7.7333        Q         1\n",
       "1         3    male  38.000000      0      0   8.6625        S         0\n",
       "2         3  female  30.000000      1      1  24.1500        S         0\n",
       "3         2  female  54.000000      1      3  23.0000        S         1\n",
       "4         2    male  40.000000      0      0  13.0000        S         0\n",
       "..      ...     ...        ...    ...    ...      ...      ...       ...\n",
       "845       1    male  55.000000      0      0  50.0000        S         0\n",
       "846       1    male  58.000000      0      0  29.7000        C         0\n",
       "847       2  female  24.000000      1      0  26.0000        S         1\n",
       "848       3  female   3.000000      1      1  13.7750        S         0\n",
       "849       2    male  52.000000      0      0  13.0000        S         0\n",
       "\n",
       "[850 rows x 8 columns]"
      ]
     },
     "execution_count": 28,
     "metadata": {},
     "output_type": "execute_result"
    }
   ],
   "source": [
    "data"
   ]
  },
  {
   "cell_type": "markdown",
   "id": "11d2153e",
   "metadata": {},
   "source": [
    "Data shows there are strings present in dataset but we want only numerical values for creating the model. \n",
    "\n",
    "We have to replace strings of \"sex\" and \"embarked\" columns with dummies "
   ]
  },
  {
   "cell_type": "code",
   "execution_count": 29,
   "id": "3ce2f2c2",
   "metadata": {},
   "outputs": [],
   "source": [
    "data[\"sex\"] = pd.get_dummies(data['sex'], drop_first= True)\n",
    "data[\"embarked\"] = pd.get_dummies(data['embarked'], drop_first= True)"
   ]
  },
  {
   "cell_type": "code",
   "execution_count": 30,
   "id": "f33107a7",
   "metadata": {},
   "outputs": [
    {
     "data": {
      "text/html": [
       "<div>\n",
       "<style scoped>\n",
       "    .dataframe tbody tr th:only-of-type {\n",
       "        vertical-align: middle;\n",
       "    }\n",
       "\n",
       "    .dataframe tbody tr th {\n",
       "        vertical-align: top;\n",
       "    }\n",
       "\n",
       "    .dataframe thead th {\n",
       "        text-align: right;\n",
       "    }\n",
       "</style>\n",
       "<table border=\"1\" class=\"dataframe\">\n",
       "  <thead>\n",
       "    <tr style=\"text-align: right;\">\n",
       "      <th></th>\n",
       "      <th>pclass</th>\n",
       "      <th>sex</th>\n",
       "      <th>age</th>\n",
       "      <th>sibsp</th>\n",
       "      <th>parch</th>\n",
       "      <th>fare</th>\n",
       "      <th>embarked</th>\n",
       "      <th>survived</th>\n",
       "    </tr>\n",
       "  </thead>\n",
       "  <tbody>\n",
       "    <tr>\n",
       "      <th>0</th>\n",
       "      <td>3</td>\n",
       "      <td>0</td>\n",
       "      <td>29.519847</td>\n",
       "      <td>0</td>\n",
       "      <td>0</td>\n",
       "      <td>7.7333</td>\n",
       "      <td>0</td>\n",
       "      <td>1</td>\n",
       "    </tr>\n",
       "    <tr>\n",
       "      <th>1</th>\n",
       "      <td>3</td>\n",
       "      <td>1</td>\n",
       "      <td>38.000000</td>\n",
       "      <td>0</td>\n",
       "      <td>0</td>\n",
       "      <td>8.6625</td>\n",
       "      <td>0</td>\n",
       "      <td>0</td>\n",
       "    </tr>\n",
       "    <tr>\n",
       "      <th>2</th>\n",
       "      <td>3</td>\n",
       "      <td>0</td>\n",
       "      <td>30.000000</td>\n",
       "      <td>1</td>\n",
       "      <td>1</td>\n",
       "      <td>24.1500</td>\n",
       "      <td>0</td>\n",
       "      <td>0</td>\n",
       "    </tr>\n",
       "    <tr>\n",
       "      <th>3</th>\n",
       "      <td>2</td>\n",
       "      <td>0</td>\n",
       "      <td>54.000000</td>\n",
       "      <td>1</td>\n",
       "      <td>3</td>\n",
       "      <td>23.0000</td>\n",
       "      <td>0</td>\n",
       "      <td>1</td>\n",
       "    </tr>\n",
       "    <tr>\n",
       "      <th>4</th>\n",
       "      <td>2</td>\n",
       "      <td>1</td>\n",
       "      <td>40.000000</td>\n",
       "      <td>0</td>\n",
       "      <td>0</td>\n",
       "      <td>13.0000</td>\n",
       "      <td>0</td>\n",
       "      <td>0</td>\n",
       "    </tr>\n",
       "    <tr>\n",
       "      <th>5</th>\n",
       "      <td>3</td>\n",
       "      <td>1</td>\n",
       "      <td>28.000000</td>\n",
       "      <td>0</td>\n",
       "      <td>0</td>\n",
       "      <td>22.5250</td>\n",
       "      <td>0</td>\n",
       "      <td>0</td>\n",
       "    </tr>\n",
       "    <tr>\n",
       "      <th>6</th>\n",
       "      <td>3</td>\n",
       "      <td>1</td>\n",
       "      <td>19.000000</td>\n",
       "      <td>0</td>\n",
       "      <td>0</td>\n",
       "      <td>0.0000</td>\n",
       "      <td>0</td>\n",
       "      <td>0</td>\n",
       "    </tr>\n",
       "    <tr>\n",
       "      <th>7</th>\n",
       "      <td>2</td>\n",
       "      <td>0</td>\n",
       "      <td>30.000000</td>\n",
       "      <td>0</td>\n",
       "      <td>0</td>\n",
       "      <td>13.0000</td>\n",
       "      <td>0</td>\n",
       "      <td>1</td>\n",
       "    </tr>\n",
       "    <tr>\n",
       "      <th>8</th>\n",
       "      <td>3</td>\n",
       "      <td>0</td>\n",
       "      <td>22.000000</td>\n",
       "      <td>0</td>\n",
       "      <td>0</td>\n",
       "      <td>7.7750</td>\n",
       "      <td>0</td>\n",
       "      <td>1</td>\n",
       "    </tr>\n",
       "    <tr>\n",
       "      <th>9</th>\n",
       "      <td>3</td>\n",
       "      <td>0</td>\n",
       "      <td>21.000000</td>\n",
       "      <td>1</td>\n",
       "      <td>0</td>\n",
       "      <td>9.8250</td>\n",
       "      <td>0</td>\n",
       "      <td>0</td>\n",
       "    </tr>\n",
       "    <tr>\n",
       "      <th>10</th>\n",
       "      <td>1</td>\n",
       "      <td>1</td>\n",
       "      <td>27.000000</td>\n",
       "      <td>0</td>\n",
       "      <td>2</td>\n",
       "      <td>211.5000</td>\n",
       "      <td>1</td>\n",
       "      <td>0</td>\n",
       "    </tr>\n",
       "    <tr>\n",
       "      <th>11</th>\n",
       "      <td>1</td>\n",
       "      <td>0</td>\n",
       "      <td>60.000000</td>\n",
       "      <td>0</td>\n",
       "      <td>0</td>\n",
       "      <td>76.2917</td>\n",
       "      <td>1</td>\n",
       "      <td>1</td>\n",
       "    </tr>\n",
       "    <tr>\n",
       "      <th>12</th>\n",
       "      <td>1</td>\n",
       "      <td>0</td>\n",
       "      <td>56.000000</td>\n",
       "      <td>0</td>\n",
       "      <td>1</td>\n",
       "      <td>83.1583</td>\n",
       "      <td>1</td>\n",
       "      <td>1</td>\n",
       "    </tr>\n",
       "    <tr>\n",
       "      <th>13</th>\n",
       "      <td>2</td>\n",
       "      <td>0</td>\n",
       "      <td>20.000000</td>\n",
       "      <td>2</td>\n",
       "      <td>1</td>\n",
       "      <td>23.0000</td>\n",
       "      <td>0</td>\n",
       "      <td>1</td>\n",
       "    </tr>\n",
       "    <tr>\n",
       "      <th>14</th>\n",
       "      <td>3</td>\n",
       "      <td>1</td>\n",
       "      <td>16.000000</td>\n",
       "      <td>1</td>\n",
       "      <td>1</td>\n",
       "      <td>20.2500</td>\n",
       "      <td>0</td>\n",
       "      <td>0</td>\n",
       "    </tr>\n",
       "    <tr>\n",
       "      <th>15</th>\n",
       "      <td>3</td>\n",
       "      <td>1</td>\n",
       "      <td>48.000000</td>\n",
       "      <td>0</td>\n",
       "      <td>0</td>\n",
       "      <td>7.8542</td>\n",
       "      <td>0</td>\n",
       "      <td>0</td>\n",
       "    </tr>\n",
       "    <tr>\n",
       "      <th>16</th>\n",
       "      <td>2</td>\n",
       "      <td>1</td>\n",
       "      <td>40.000000</td>\n",
       "      <td>0</td>\n",
       "      <td>0</td>\n",
       "      <td>16.0000</td>\n",
       "      <td>0</td>\n",
       "      <td>0</td>\n",
       "    </tr>\n",
       "    <tr>\n",
       "      <th>17</th>\n",
       "      <td>3</td>\n",
       "      <td>1</td>\n",
       "      <td>29.519847</td>\n",
       "      <td>2</td>\n",
       "      <td>0</td>\n",
       "      <td>23.2500</td>\n",
       "      <td>0</td>\n",
       "      <td>1</td>\n",
       "    </tr>\n",
       "    <tr>\n",
       "      <th>18</th>\n",
       "      <td>1</td>\n",
       "      <td>0</td>\n",
       "      <td>22.000000</td>\n",
       "      <td>0</td>\n",
       "      <td>1</td>\n",
       "      <td>55.0000</td>\n",
       "      <td>0</td>\n",
       "      <td>1</td>\n",
       "    </tr>\n",
       "    <tr>\n",
       "      <th>19</th>\n",
       "      <td>3</td>\n",
       "      <td>1</td>\n",
       "      <td>32.000000</td>\n",
       "      <td>0</td>\n",
       "      <td>0</td>\n",
       "      <td>7.7750</td>\n",
       "      <td>0</td>\n",
       "      <td>1</td>\n",
       "    </tr>\n",
       "  </tbody>\n",
       "</table>\n",
       "</div>"
      ],
      "text/plain": [
       "    pclass  sex        age  sibsp  parch      fare  embarked  survived\n",
       "0        3    0  29.519847      0      0    7.7333         0         1\n",
       "1        3    1  38.000000      0      0    8.6625         0         0\n",
       "2        3    0  30.000000      1      1   24.1500         0         0\n",
       "3        2    0  54.000000      1      3   23.0000         0         1\n",
       "4        2    1  40.000000      0      0   13.0000         0         0\n",
       "5        3    1  28.000000      0      0   22.5250         0         0\n",
       "6        3    1  19.000000      0      0    0.0000         0         0\n",
       "7        2    0  30.000000      0      0   13.0000         0         1\n",
       "8        3    0  22.000000      0      0    7.7750         0         1\n",
       "9        3    0  21.000000      1      0    9.8250         0         0\n",
       "10       1    1  27.000000      0      2  211.5000         1         0\n",
       "11       1    0  60.000000      0      0   76.2917         1         1\n",
       "12       1    0  56.000000      0      1   83.1583         1         1\n",
       "13       2    0  20.000000      2      1   23.0000         0         1\n",
       "14       3    1  16.000000      1      1   20.2500         0         0\n",
       "15       3    1  48.000000      0      0    7.8542         0         0\n",
       "16       2    1  40.000000      0      0   16.0000         0         0\n",
       "17       3    1  29.519847      2      0   23.2500         0         1\n",
       "18       1    0  22.000000      0      1   55.0000         0         1\n",
       "19       3    1  32.000000      0      0    7.7750         0         1"
      ]
     },
     "execution_count": 30,
     "metadata": {},
     "output_type": "execute_result"
    }
   ],
   "source": [
    "data.head(20)"
   ]
  },
  {
   "cell_type": "code",
   "execution_count": 31,
   "id": "fd8abcc4",
   "metadata": {},
   "outputs": [
    {
     "data": {
      "text/plain": [
       "pclass        int64\n",
       "sex           uint8\n",
       "age         float64\n",
       "sibsp         int64\n",
       "parch         int64\n",
       "fare        float64\n",
       "embarked      uint8\n",
       "survived      int64\n",
       "dtype: object"
      ]
     },
     "execution_count": 31,
     "metadata": {},
     "output_type": "execute_result"
    }
   ],
   "source": [
    "data.dtypes"
   ]
  },
  {
   "cell_type": "markdown",
   "id": "64b9089f",
   "metadata": {},
   "source": [
    "## 7. Model Building"
   ]
  },
  {
   "cell_type": "markdown",
   "id": "872e26fd",
   "metadata": {},
   "source": [
    "### Splitting the data by train test split"
   ]
  },
  {
   "cell_type": "code",
   "execution_count": 90,
   "id": "878c55b7",
   "metadata": {},
   "outputs": [],
   "source": [
    "x= data.drop('survived', axis = 1)\n",
    "y= data['survived']"
   ]
  },
  {
   "cell_type": "markdown",
   "id": "e8d011b7",
   "metadata": {},
   "source": [
    "Training data 70% & Testing data 30% "
   ]
  },
  {
   "cell_type": "code",
   "execution_count": 91,
   "id": "86612551",
   "metadata": {},
   "outputs": [],
   "source": [
    "from sklearn.model_selection import train_test_split"
   ]
  },
  {
   "cell_type": "code",
   "execution_count": 92,
   "id": "9af93950",
   "metadata": {},
   "outputs": [],
   "source": [
    "x_train, x_test, y_train, y_test = train_test_split(x, y, test_size= 0.3, random_state= 1000)"
   ]
  },
  {
   "cell_type": "markdown",
   "id": "11a1dcaf",
   "metadata": {},
   "source": [
    "### Logistic Regression"
   ]
  },
  {
   "cell_type": "code",
   "execution_count": 93,
   "id": "155504e5",
   "metadata": {},
   "outputs": [
    {
     "name": "stdout",
     "output_type": "stream",
     "text": [
      "Confusion Matrix: \n",
      "[[136  27]\n",
      " [ 25  67]]\n",
      "Accuracy Score:  79.6078431372549\n"
     ]
    }
   ],
   "source": [
    "from sklearn.linear_model import LogisticRegression\n",
    "lr = LogisticRegression()\n",
    "\n",
    "lr.fit(x_train, y_train)\n",
    "\n",
    "\n",
    "from sklearn.metrics import accuracy_score, confusion_matrix\n",
    "lr_predict = lr.predict(x_test)\n",
    "lr_score = accuracy_score(y_test, lr_predict)\n",
    "\n",
    "lr_conf = confusion_matrix(y_test, lr_predict)\n",
    "print(\"Confusion Matrix: \" )\n",
    "\n",
    "print(lr_conf )\n",
    "print(\"Accuracy Score: \", lr_score*100)"
   ]
  },
  {
   "cell_type": "markdown",
   "id": "4c9b4ca0",
   "metadata": {},
   "source": [
    "### Decision Tree Classifier"
   ]
  },
  {
   "cell_type": "code",
   "execution_count": 94,
   "id": "ba6d3e8c",
   "metadata": {},
   "outputs": [
    {
     "name": "stdout",
     "output_type": "stream",
     "text": [
      "Confusion Matrix: \n",
      "[[128  35]\n",
      " [ 23  69]]\n",
      "Accuracy Score:  77.25490196078432\n"
     ]
    }
   ],
   "source": [
    "from sklearn.tree import DecisionTreeClassifier\n",
    "dtc = DecisionTreeClassifier()\n",
    "\n",
    "dtc.fit(x_train, y_train)\n",
    "\n",
    "\n",
    "dtc_predict = dtc.predict(x_test)\n",
    "dtc_score = accuracy_score(y_test, dtc_predict)\n",
    "\n",
    "dtc_conf = confusion_matrix(y_test, dtc_predict)\n",
    "print(\"Confusion Matrix: \" )\n",
    "print(dtc_conf)\n",
    "print(\"Accuracy Score: \", dtc_score*100)"
   ]
  },
  {
   "cell_type": "markdown",
   "id": "1b03e808",
   "metadata": {},
   "source": [
    "### SVM- Support Vector Classification"
   ]
  },
  {
   "cell_type": "code",
   "execution_count": 95,
   "id": "feecad6a",
   "metadata": {},
   "outputs": [
    {
     "name": "stdout",
     "output_type": "stream",
     "text": [
      "Confusion Matrix: \n",
      "[[153  10]\n",
      " [ 71  21]]\n",
      "Accuracy Score:  68.23529411764706\n"
     ]
    }
   ],
   "source": [
    "from sklearn.svm import SVC\n",
    "svc = SVC()\n",
    "\n",
    "svc.fit(x_train, y_train)\n",
    "\n",
    "\n",
    "svc_predict = svc.predict(x_test)\n",
    "svc_score = accuracy_score(y_test, svc_predict)\n",
    "\n",
    "svc_conf = confusion_matrix(y_test, svc_predict)\n",
    "print(\"Confusion Matrix: \" )\n",
    "print(svc_conf)\n",
    "print(\"Accuracy Score: \", svc_score*100)"
   ]
  },
  {
   "cell_type": "markdown",
   "id": "a2024a7e",
   "metadata": {},
   "source": [
    "### Random Forest Classifier"
   ]
  },
  {
   "cell_type": "code",
   "execution_count": 96,
   "id": "820aa2ac",
   "metadata": {},
   "outputs": [
    {
     "name": "stdout",
     "output_type": "stream",
     "text": [
      "Confusion Matrix: \n",
      "[[138  25]\n",
      " [ 18  74]]\n",
      "Accuracy Score:  83.13725490196079\n"
     ]
    }
   ],
   "source": [
    "from sklearn.ensemble import RandomForestClassifier\n",
    "\n",
    "rf = RandomForestClassifier()\n",
    "\n",
    "rf.fit(x_train, y_train)\n",
    "\n",
    "rf_predict = rf.predict(x_test)\n",
    "rf_score = accuracy_score(y_test, rf_predict)\n",
    "\n",
    "rf_conf = confusion_matrix(y_test, rf_predict)\n",
    "print(\"Confusion Matrix: \" )\n",
    "\n",
    "print(rf_conf )\n",
    "print(\"Accuracy Score: \", rf_score*100)"
   ]
  },
  {
   "cell_type": "markdown",
   "id": "52093539",
   "metadata": {},
   "source": [
    "### Naive Bayes"
   ]
  },
  {
   "cell_type": "code",
   "execution_count": 97,
   "id": "efcf0ae8",
   "metadata": {},
   "outputs": [
    {
     "name": "stdout",
     "output_type": "stream",
     "text": [
      "Confusion Matrix: \n",
      "[[128  35]\n",
      " [ 21  71]]\n",
      "Accuracy Score:  78.03921568627452\n"
     ]
    }
   ],
   "source": [
    "from sklearn.naive_bayes import GaussianNB\n",
    "\n",
    "nb = GaussianNB()\n",
    "\n",
    "nb.fit(x_train, y_train)\n",
    "\n",
    "nb_predict = nb.predict(x_test)\n",
    "\n",
    "nb_conf_matrix = confusion_matrix(y_test, nb_predict)\n",
    "nb_acc_score = accuracy_score(y_test, nb_predict)\n",
    "print(\"Confusion Matrix: \" )\n",
    "print(nb_conf_matrix)\n",
    "print(\"Accuracy Score: \", nb_acc_score*100)"
   ]
  },
  {
   "cell_type": "markdown",
   "id": "24d181c5",
   "metadata": {},
   "source": [
    "## Results:\n",
    "\n",
    "The accuracy of Logistic Regression is: 79.60 %\n",
    "\n",
    "The accuracy of Decision Tree Classifier is: 77.25 %\n",
    "\n",
    "The accuracy of SVM is: 68.23 %\n",
    "\n",
    "The accuracy of Random Forest Classifier is: 83.13 %\n",
    "\n",
    "The accuracy of Naive Bayes is: 78.03 %"
   ]
  },
  {
   "cell_type": "markdown",
   "id": "fd7634c2",
   "metadata": {},
   "source": [
    "From above model shows accuracy of Random Forest Classifier is higher than other models. Accuracy of Random Forest Classifier is **83.13%**. "
   ]
  },
  {
   "cell_type": "markdown",
   "id": "2956a91b",
   "metadata": {},
   "source": [
    "## 8. Testing Model"
   ]
  },
  {
   "cell_type": "code",
   "execution_count": 99,
   "id": "d51021ca",
   "metadata": {},
   "outputs": [
    {
     "data": {
      "text/html": [
       "<div>\n",
       "<style scoped>\n",
       "    .dataframe tbody tr th:only-of-type {\n",
       "        vertical-align: middle;\n",
       "    }\n",
       "\n",
       "    .dataframe tbody tr th {\n",
       "        vertical-align: top;\n",
       "    }\n",
       "\n",
       "    .dataframe thead th {\n",
       "        text-align: right;\n",
       "    }\n",
       "</style>\n",
       "<table border=\"1\" class=\"dataframe\">\n",
       "  <thead>\n",
       "    <tr style=\"text-align: right;\">\n",
       "      <th></th>\n",
       "      <th>Original</th>\n",
       "      <th>Predicted</th>\n",
       "    </tr>\n",
       "  </thead>\n",
       "  <tbody>\n",
       "    <tr>\n",
       "      <th>0</th>\n",
       "      <td>0</td>\n",
       "      <td>0</td>\n",
       "    </tr>\n",
       "    <tr>\n",
       "      <th>1</th>\n",
       "      <td>1</td>\n",
       "      <td>1</td>\n",
       "    </tr>\n",
       "    <tr>\n",
       "      <th>2</th>\n",
       "      <td>0</td>\n",
       "      <td>0</td>\n",
       "    </tr>\n",
       "    <tr>\n",
       "      <th>3</th>\n",
       "      <td>1</td>\n",
       "      <td>1</td>\n",
       "    </tr>\n",
       "    <tr>\n",
       "      <th>4</th>\n",
       "      <td>0</td>\n",
       "      <td>0</td>\n",
       "    </tr>\n",
       "    <tr>\n",
       "      <th>5</th>\n",
       "      <td>1</td>\n",
       "      <td>1</td>\n",
       "    </tr>\n",
       "    <tr>\n",
       "      <th>6</th>\n",
       "      <td>1</td>\n",
       "      <td>0</td>\n",
       "    </tr>\n",
       "    <tr>\n",
       "      <th>7</th>\n",
       "      <td>0</td>\n",
       "      <td>0</td>\n",
       "    </tr>\n",
       "    <tr>\n",
       "      <th>8</th>\n",
       "      <td>1</td>\n",
       "      <td>0</td>\n",
       "    </tr>\n",
       "    <tr>\n",
       "      <th>9</th>\n",
       "      <td>1</td>\n",
       "      <td>1</td>\n",
       "    </tr>\n",
       "    <tr>\n",
       "      <th>10</th>\n",
       "      <td>1</td>\n",
       "      <td>1</td>\n",
       "    </tr>\n",
       "    <tr>\n",
       "      <th>11</th>\n",
       "      <td>0</td>\n",
       "      <td>0</td>\n",
       "    </tr>\n",
       "    <tr>\n",
       "      <th>12</th>\n",
       "      <td>0</td>\n",
       "      <td>0</td>\n",
       "    </tr>\n",
       "    <tr>\n",
       "      <th>13</th>\n",
       "      <td>0</td>\n",
       "      <td>0</td>\n",
       "    </tr>\n",
       "    <tr>\n",
       "      <th>14</th>\n",
       "      <td>0</td>\n",
       "      <td>1</td>\n",
       "    </tr>\n",
       "    <tr>\n",
       "      <th>15</th>\n",
       "      <td>1</td>\n",
       "      <td>1</td>\n",
       "    </tr>\n",
       "    <tr>\n",
       "      <th>16</th>\n",
       "      <td>0</td>\n",
       "      <td>0</td>\n",
       "    </tr>\n",
       "    <tr>\n",
       "      <th>17</th>\n",
       "      <td>1</td>\n",
       "      <td>1</td>\n",
       "    </tr>\n",
       "    <tr>\n",
       "      <th>18</th>\n",
       "      <td>0</td>\n",
       "      <td>0</td>\n",
       "    </tr>\n",
       "    <tr>\n",
       "      <th>19</th>\n",
       "      <td>0</td>\n",
       "      <td>0</td>\n",
       "    </tr>\n",
       "    <tr>\n",
       "      <th>20</th>\n",
       "      <td>0</td>\n",
       "      <td>0</td>\n",
       "    </tr>\n",
       "    <tr>\n",
       "      <th>21</th>\n",
       "      <td>0</td>\n",
       "      <td>0</td>\n",
       "    </tr>\n",
       "    <tr>\n",
       "      <th>22</th>\n",
       "      <td>0</td>\n",
       "      <td>0</td>\n",
       "    </tr>\n",
       "    <tr>\n",
       "      <th>23</th>\n",
       "      <td>1</td>\n",
       "      <td>0</td>\n",
       "    </tr>\n",
       "    <tr>\n",
       "      <th>24</th>\n",
       "      <td>0</td>\n",
       "      <td>0</td>\n",
       "    </tr>\n",
       "    <tr>\n",
       "      <th>25</th>\n",
       "      <td>1</td>\n",
       "      <td>1</td>\n",
       "    </tr>\n",
       "    <tr>\n",
       "      <th>26</th>\n",
       "      <td>1</td>\n",
       "      <td>0</td>\n",
       "    </tr>\n",
       "    <tr>\n",
       "      <th>27</th>\n",
       "      <td>0</td>\n",
       "      <td>0</td>\n",
       "    </tr>\n",
       "    <tr>\n",
       "      <th>28</th>\n",
       "      <td>1</td>\n",
       "      <td>0</td>\n",
       "    </tr>\n",
       "    <tr>\n",
       "      <th>29</th>\n",
       "      <td>0</td>\n",
       "      <td>0</td>\n",
       "    </tr>\n",
       "    <tr>\n",
       "      <th>30</th>\n",
       "      <td>0</td>\n",
       "      <td>0</td>\n",
       "    </tr>\n",
       "    <tr>\n",
       "      <th>31</th>\n",
       "      <td>0</td>\n",
       "      <td>0</td>\n",
       "    </tr>\n",
       "    <tr>\n",
       "      <th>32</th>\n",
       "      <td>1</td>\n",
       "      <td>1</td>\n",
       "    </tr>\n",
       "    <tr>\n",
       "      <th>33</th>\n",
       "      <td>0</td>\n",
       "      <td>0</td>\n",
       "    </tr>\n",
       "    <tr>\n",
       "      <th>34</th>\n",
       "      <td>1</td>\n",
       "      <td>1</td>\n",
       "    </tr>\n",
       "    <tr>\n",
       "      <th>35</th>\n",
       "      <td>0</td>\n",
       "      <td>0</td>\n",
       "    </tr>\n",
       "    <tr>\n",
       "      <th>36</th>\n",
       "      <td>0</td>\n",
       "      <td>0</td>\n",
       "    </tr>\n",
       "    <tr>\n",
       "      <th>37</th>\n",
       "      <td>0</td>\n",
       "      <td>0</td>\n",
       "    </tr>\n",
       "    <tr>\n",
       "      <th>38</th>\n",
       "      <td>0</td>\n",
       "      <td>0</td>\n",
       "    </tr>\n",
       "    <tr>\n",
       "      <th>39</th>\n",
       "      <td>0</td>\n",
       "      <td>0</td>\n",
       "    </tr>\n",
       "    <tr>\n",
       "      <th>40</th>\n",
       "      <td>0</td>\n",
       "      <td>1</td>\n",
       "    </tr>\n",
       "    <tr>\n",
       "      <th>41</th>\n",
       "      <td>0</td>\n",
       "      <td>0</td>\n",
       "    </tr>\n",
       "    <tr>\n",
       "      <th>42</th>\n",
       "      <td>1</td>\n",
       "      <td>1</td>\n",
       "    </tr>\n",
       "    <tr>\n",
       "      <th>43</th>\n",
       "      <td>0</td>\n",
       "      <td>0</td>\n",
       "    </tr>\n",
       "    <tr>\n",
       "      <th>44</th>\n",
       "      <td>0</td>\n",
       "      <td>1</td>\n",
       "    </tr>\n",
       "    <tr>\n",
       "      <th>45</th>\n",
       "      <td>0</td>\n",
       "      <td>1</td>\n",
       "    </tr>\n",
       "    <tr>\n",
       "      <th>46</th>\n",
       "      <td>1</td>\n",
       "      <td>1</td>\n",
       "    </tr>\n",
       "    <tr>\n",
       "      <th>47</th>\n",
       "      <td>0</td>\n",
       "      <td>0</td>\n",
       "    </tr>\n",
       "    <tr>\n",
       "      <th>48</th>\n",
       "      <td>1</td>\n",
       "      <td>1</td>\n",
       "    </tr>\n",
       "    <tr>\n",
       "      <th>49</th>\n",
       "      <td>1</td>\n",
       "      <td>0</td>\n",
       "    </tr>\n",
       "  </tbody>\n",
       "</table>\n",
       "</div>"
      ],
      "text/plain": [
       "    Original  Predicted\n",
       "0          0          0\n",
       "1          1          1\n",
       "2          0          0\n",
       "3          1          1\n",
       "4          0          0\n",
       "5          1          1\n",
       "6          1          0\n",
       "7          0          0\n",
       "8          1          0\n",
       "9          1          1\n",
       "10         1          1\n",
       "11         0          0\n",
       "12         0          0\n",
       "13         0          0\n",
       "14         0          1\n",
       "15         1          1\n",
       "16         0          0\n",
       "17         1          1\n",
       "18         0          0\n",
       "19         0          0\n",
       "20         0          0\n",
       "21         0          0\n",
       "22         0          0\n",
       "23         1          0\n",
       "24         0          0\n",
       "25         1          1\n",
       "26         1          0\n",
       "27         0          0\n",
       "28         1          0\n",
       "29         0          0\n",
       "30         0          0\n",
       "31         0          0\n",
       "32         1          1\n",
       "33         0          0\n",
       "34         1          1\n",
       "35         0          0\n",
       "36         0          0\n",
       "37         0          0\n",
       "38         0          0\n",
       "39         0          0\n",
       "40         0          1\n",
       "41         0          0\n",
       "42         1          1\n",
       "43         0          0\n",
       "44         0          1\n",
       "45         0          1\n",
       "46         1          1\n",
       "47         0          0\n",
       "48         1          1\n",
       "49         1          0"
      ]
     },
     "execution_count": 99,
     "metadata": {},
     "output_type": "execute_result"
    }
   ],
   "source": [
    "a= np.array(y_test)\n",
    "predicted = np.array(rf.predict(x_test))\n",
    "df_com=pd.DataFrame({\"Original\":a, \"Predicted\": predicted}, index= range(len(a)))\n",
    "df_com.head(50)"
   ]
  },
  {
   "cell_type": "markdown",
   "id": "2599885a",
   "metadata": {},
   "source": [
    "# Model Created Succsessfully"
   ]
  }
 ],
 "metadata": {
  "kernelspec": {
   "display_name": "Python 3",
   "language": "python",
   "name": "python3"
  },
  "language_info": {
   "codemirror_mode": {
    "name": "ipython",
    "version": 3
   },
   "file_extension": ".py",
   "mimetype": "text/x-python",
   "name": "python",
   "nbconvert_exporter": "python",
   "pygments_lexer": "ipython3",
   "version": "3.8.8"
  }
 },
 "nbformat": 4,
 "nbformat_minor": 5
}
